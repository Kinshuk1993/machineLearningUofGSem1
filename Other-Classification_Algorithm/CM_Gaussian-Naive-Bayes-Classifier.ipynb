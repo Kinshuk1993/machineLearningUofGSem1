{
 "cells": [
  {
   "cell_type": "code",
   "execution_count": 72,
   "metadata": {},
   "outputs": [
    {
     "name": "stdout",
     "output_type": "stream",
     "text": [
      "Accuracy: 90.56%\n",
      "F1 Score: 87.02\n",
      "COnfusion Matrix:\n",
      " [[ 57   8]\n",
      " [  9 106]]\n",
      "              precision    recall  f1-score   support\n",
      "\n",
      "         1.0       0.86      0.88      0.87        65\n",
      "         2.0       0.93      0.92      0.93       115\n",
      "\n",
      "   micro avg       0.91      0.91      0.91       180\n",
      "   macro avg       0.90      0.90      0.90       180\n",
      "weighted avg       0.91      0.91      0.91       180\n",
      "\n"
     ]
    }
   ],
   "source": [
    "#import numpy\n",
    "import numpy as np\n",
    "#import gaussian nb from sklearn\n",
    "from sklearn.naive_bayes import GaussianNB\n",
    "#import the normalizationmodule\n",
    "from sklearn.preprocessing import StandardScaler\n",
    "#import pre processing library\n",
    "from sklearn.decomposition import PCA\n",
    "#import pipilining module to execute stepwise\n",
    "from sklearn.pipeline import make_pipeline\n",
    "#imprt modules to get the metrics of the algorithm\n",
    "from sklearn.metrics import accuracy_score, f1_score, confusion_matrix, classification_report\n",
    "#import library for class balancing\n",
    "from imblearn.over_sampling import SMOTE\n",
    "#import for splitting of training data\n",
    "from sklearn.model_selection import train_test_split\n",
    "# Load training and testing data\n",
    "X = np.loadtxt('X_train.csv', delimiter=',', skiprows=1)\n",
    "X_test_actual = np.loadtxt('X_test.csv', delimiter=',', skiprows=1)\n",
    "y = np.loadtxt('y_train.csv', delimiter=',', skiprows=1)[:, 1]\n",
    "#varible for class balancing\n",
    "sm = SMOTE()\n",
    "#divide the training data and testing data without shuffling the data\n",
    "X_train, X_test, y_train, y_test = train_test_split(X, y, test_size=0.3, shuffle=False)\n",
    "#fit the sample and balance the class for calculating the metrics on the algorithm\n",
    "X_train_res, y_train_res = sm.fit_sample(X_train, y_train)\n",
    "#fit on the actual data to balance them for actual\n",
    "X_train_res_actual, y_train_res_actual = sm.fit_sample(X, y)\n",
    "#maintain 81% of the variance in the output and select the optimum number of components\n",
    "pca = PCA(0.81)\n",
    "#make a pipeline of steps -> first normalize the data, pre-process the data and then perform the gaussian naive bayes\n",
    "gnb = make_pipeline(StandardScaler(), pca.fit(X_test), GaussianNB())\n",
    "#same as above line for the actual classification to submit\n",
    "gnb_actual = make_pipeline(StandardScaler(), pca.fit(X_test_actual), GaussianNB())\n",
    "#train the X and Y data and then test it on the X_test to get final output file\n",
    "y_pred = gnb.fit(X_train_res, y_train_res).predict(X_test)\n",
    "#same as above line for the actual training and prediction\n",
    "y_pred_actual = gnb_actual.fit(X_train_res_actual, y_train_res_actual).predict(X_test_actual)\n",
    "#prepare the data to write to csv file - both for metrics and csv\n",
    "n_points = X_test.shape[0]\n",
    "n_points_actual = X_test_actual.shape[0]\n",
    "#get third column to the csv file\n",
    "y_pred_pp_actual = np.ones((n_points_actual, 2))\n",
    "#first column is all X_test columns\n",
    "y_pred_pp_actual[:, 0] = range(n_points_actual)\n",
    "#second column is the predicted class\n",
    "y_pred_pp_actual[:, 1] = y_pred_actual\n",
    "#calculate accuracy, f1 score and the confusion matrix based on the sample split up test data\n",
    "print(\"Accuracy: {:.2f}%\".format(accuracy_score(y_test, y_pred) * 100))\n",
    "print(\"F1 Score: {:.2f}\".format(f1_score(y_test, y_pred) * 100))\n",
    "print(\"COnfusion Matrix:\\n\", confusion_matrix(y_test, y_pred))\n",
    "print(classification_report(y_test, y_pred))\n",
    "#create the file with the delimeter ',' and remove the '#' from the header in the file\n",
    "np.savetxt('Gaussian-Naive-Bayes-Final-Output.csv', y_pred_pp_actual, fmt='%d', delimiter=\",\", header=\"Id,EpiOrStroma\", comments=\"\")"
   ]
  },
  {
   "cell_type": "markdown",
   "metadata": {},
   "source": [
    "## "
   ]
  },
  {
   "cell_type": "code",
   "execution_count": null,
   "metadata": {},
   "outputs": [],
   "source": []
  },
  {
   "cell_type": "code",
   "execution_count": null,
   "metadata": {},
   "outputs": [],
   "source": []
  },
  {
   "cell_type": "code",
   "execution_count": null,
   "metadata": {},
   "outputs": [],
   "source": []
  }
 ],
 "metadata": {
  "kernelspec": {
   "display_name": "Python 3",
   "language": "python",
   "name": "python3"
  },
  "language_info": {
   "codemirror_mode": {
    "name": "ipython",
    "version": 3
   },
   "file_extension": ".py",
   "mimetype": "text/x-python",
   "name": "python",
   "nbconvert_exporter": "python",
   "pygments_lexer": "ipython3",
   "version": "3.6.5"
  }
 },
 "nbformat": 4,
 "nbformat_minor": 2
}
