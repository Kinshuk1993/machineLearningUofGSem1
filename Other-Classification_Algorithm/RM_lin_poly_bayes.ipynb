{
 "cells": [
  {
   "cell_type": "code",
   "execution_count": 1,
   "metadata": {
    "collapsed": true
   },
   "outputs": [],
   "source": [
    "# Code by Andrew England - 21285542 \n",
    "import numpy as np\n",
    "import pylab as plt\n",
    "from sklearn.linear_model import BayesianRidge, LinearRegression\n",
    "import pandas as pd\n",
    "from sklearn.feature_selection import VarianceThreshold\n",
    "from sklearn.metrics import mean_absolute_error\n",
    "from sklearn.model_selection import train_test_split\n",
    "%matplotlib inline"
   ]
  },
  {
   "cell_type": "code",
   "execution_count": 3,
   "metadata": {
    "collapsed": true
   },
   "outputs": [],
   "source": [
    "#########import\n",
    "X_train = np.loadtxt('input/X_train.csv', delimiter=',', skiprows=1)\n",
    "X_test = np.loadtxt('input/X_test.csv', delimiter=',', skiprows=1)\n",
    "y_train = np.loadtxt('input/y_train.csv', delimiter=',', skiprows=1)[:,1]"
   ]
  },
  {
   "cell_type": "code",
   "execution_count": 3,
   "metadata": {
    "collapsed": true,
    "scrolled": true
   },
   "outputs": [],
   "source": [
    "#########subset features - training\n",
    "X = np.zeros((X_train.shape[0], 4))\n",
    "X[:,0] = X_train[:,0]\n",
    "X[:,1] = (X_train[:,1]+X_train[:,2])/2.0\n",
    "X[:,2] = X_train[:,3] \n",
    "X[:,3] = (X_train[:,4]+X_train[:,5])/2.0"
   ]
  },
  {
   "cell_type": "code",
   "execution_count": 4,
   "metadata": {
    "collapsed": true,
    "scrolled": true
   },
   "outputs": [],
   "source": [
    "X_train = X"
   ]
  },
  {
   "cell_type": "code",
   "execution_count": 5,
   "metadata": {
    "collapsed": true
   },
   "outputs": [],
   "source": [
    "#######subset features - test\n",
    "X = np.zeros((X_test.shape[0], 4))\n",
    "X[:,0] = X_test[:,0]\n",
    "X[:,1] = (X_test[:,1]+X_test[:,2])/2.0\n",
    "X[:,2] = X_test[:,3] \n",
    "X[:,3] = (X_test[:,4]+X_test[:,5])/2.0"
   ]
  },
  {
   "cell_type": "code",
   "execution_count": 6,
   "metadata": {
    "collapsed": true
   },
   "outputs": [],
   "source": [
    "X_test = X"
   ]
  },
  {
   "cell_type": "code",
   "execution_count": 7,
   "metadata": {
    "collapsed": true
   },
   "outputs": [],
   "source": [
    "#X_train_temp, X_test_temp, y_train_temp, y_test = train_test_split(X_train, y_train, test_size=0.2, random_state=2018)\n"
   ]
  },
  {
   "cell_type": "code",
   "execution_count": 8,
   "metadata": {},
   "outputs": [
    {
     "data": {
      "text/plain": [
       "array([ 68.16398633,  87.39969359,  -6.16061846,  13.29067979,\n",
       "       206.62251206, 259.6349414 ,  98.78959224, 163.00990684,\n",
       "       207.79134113, 171.28701269,  16.34524149, 174.85084571,\n",
       "        30.70948479, -11.62943219,  57.33642243, 217.17605882,\n",
       "        -7.09619297, -17.43888425,  28.68908634, 206.16404466,\n",
       "        51.77204932,  80.41285853,  56.19728755, -13.252061  ,\n",
       "        22.67008888,  51.77204932,  -1.36060201, 104.82261941,\n",
       "         4.21079328, 175.48123839,  14.77072521, -27.66826053,\n",
       "       -17.43888425,   5.22826555, -11.69741721, 406.12728248,\n",
       "       239.9912633 ,  37.26106977, -15.33486054, 461.4732589 ,\n",
       "       332.75053386])"
      ]
     },
     "execution_count": 8,
     "metadata": {},
     "output_type": "execute_result"
    }
   ],
   "source": [
    "######################linear comparison###########################\n",
    "linreg = LinearRegression()\n",
    "linreg.fit(X_train, y_train)\n",
    "ols_pred = linreg.predict(X_test)\n",
    "ols_pred\n",
    "#mean_absolute_error(y_test, ols_pred)"
   ]
  },
  {
   "cell_type": "code",
   "execution_count": 9,
   "metadata": {
    "collapsed": true
   },
   "outputs": [],
   "source": [
    "#####################polynomial########################\n",
    "#########poly order = 2\n",
    "#########compute important features in 1st order\n",
    "Bay = BayesianRidge(compute_score=True)\n",
    "Bay.fit(X_train, y_train)\n",
    "Important_train = np.zeros((X_train.shape[0], X_train.shape[1]))\n",
    "Important_test = np.zeros((X_test.shape[0], X_test.shape[1]))\n",
    "j=0\n",
    "for i in range(1, X_train.shape[1]):\n",
    "    if Bay.sigma_[i-1,i-1]>1e-07:\n",
    "        Important_train[:,j] = X_train[:,i-1]\n",
    "        Important_test[:,j] = X_test[:,i-1]\n",
    "        j = j+1\n",
    "Xtrain_feats = Important_train[:, :j]\n",
    "Xtest_feats = Important_test[:,:j]\n"
   ]
  },
  {
   "cell_type": "code",
   "execution_count": 10,
   "metadata": {},
   "outputs": [
    {
     "data": {
      "text/plain": [
       "(168, 3)"
      ]
     },
     "execution_count": 10,
     "metadata": {},
     "output_type": "execute_result"
    }
   ],
   "source": [
    "Xtrain_feats.shape"
   ]
  },
  {
   "cell_type": "code",
   "execution_count": 11,
   "metadata": {
    "collapsed": true
   },
   "outputs": [],
   "source": [
    "########poly order = 2\n",
    "squaretrain = np.power(X_train,2)\n",
    "squaretest = np.power(X_test,2)"
   ]
  },
  {
   "cell_type": "code",
   "execution_count": 12,
   "metadata": {
    "collapsed": true
   },
   "outputs": [],
   "source": [
    "#######compute important features in 2nd order\n",
    "Bay_squared_feats = BayesianRidge()\n",
    "Bay_squared_feats.fit(squaretrain, y_train)\n",
    "\n",
    "Importantsquare_train = np.zeros((squaretrain.shape[0], squaretrain.shape[1]))\n",
    "Importantsquare_test = np.zeros((squaretest.shape[0],squaretest.shape[1]))\n",
    "k=0\n",
    "for i in range(1, squaretrain.shape[1]):\n",
    "    if Bay_squared_feats.sigma_[i-1,i-1]>1e-07:\n",
    "        Importantsquare_train[:,k] = squaretrain[:,i-1]\n",
    "        Importantsquare_test[:,k] = squaretest[:,i-1]\n",
    "        k = k+1\n",
    "Xtrain_squarefeats = Importantsquare_train[:, :k]\n",
    "Xtest_squarefeats = Importantsquare_test[:,:k]"
   ]
  },
  {
   "cell_type": "code",
   "execution_count": 13,
   "metadata": {
    "scrolled": false
   },
   "outputs": [
    {
     "data": {
      "text/plain": [
       "(168, 1)"
      ]
     },
     "execution_count": 13,
     "metadata": {},
     "output_type": "execute_result"
    }
   ],
   "source": [
    "Xtrain_squarefeats.shape"
   ]
  },
  {
   "cell_type": "code",
   "execution_count": 14,
   "metadata": {
    "collapsed": true
   },
   "outputs": [],
   "source": [
    "#######poly order = 3\n",
    "threetrain = np.power(X_train,3)\n",
    "threetest = np.power(X_test,3)"
   ]
  },
  {
   "cell_type": "code",
   "execution_count": 15,
   "metadata": {
    "collapsed": true
   },
   "outputs": [],
   "source": [
    "#######compute important features in 3nd order\n",
    "Bay_three_feats = BayesianRidge()\n",
    "Bay_three_feats.fit(threetrain, y_train)\n",
    "\n",
    "Importantthree_train = np.zeros((threetrain.shape[0], threetrain.shape[1]))\n",
    "Importantthree_test = np.zeros((threetest.shape[0],threetest.shape[1]))\n",
    "l=0\n",
    "for i in range(1, threetrain.shape[1]):\n",
    "    if Bay_three_feats.sigma_[i-1,i-1]>1e-07:\n",
    "        Importantthree_train[:,l] = threetrain[:,i-1]\n",
    "        Importantthree_test[:,l] = threetest[:,i-1]\n",
    "        l = l+1\n",
    "Xtrain_threefeats = Importantthree_train[:, :l]\n",
    "Xtest_threefeats = Importantthree_test[:,:l]"
   ]
  },
  {
   "cell_type": "code",
   "execution_count": 16,
   "metadata": {},
   "outputs": [
    {
     "data": {
      "text/plain": [
       "(168, 0)"
      ]
     },
     "execution_count": 16,
     "metadata": {},
     "output_type": "execute_result"
    }
   ],
   "source": [
    "Xtrain_threefeats.shape"
   ]
  },
  {
   "cell_type": "code",
   "execution_count": 17,
   "metadata": {
    "collapsed": true
   },
   "outputs": [],
   "source": [
    "######ceate design matrix\n",
    "onestrain = np.ones((Xtrain_feats.shape[0],1))\n",
    "onestest = np.ones((Xtest_feats.shape[0],1))\n",
    "\n",
    "designtrain = np.concatenate((onestrain,Xtrain_feats, Xtrain_squarefeats, Xtrain_threefeats),axis=1)\n",
    "designtest = np.concatenate((onestest,Xtest_feats, Xtest_squarefeats, Xtest_threefeats),axis=1)"
   ]
  },
  {
   "cell_type": "code",
   "execution_count": 18,
   "metadata": {},
   "outputs": [
    {
     "data": {
      "text/plain": [
       "(168, 5)"
      ]
     },
     "execution_count": 18,
     "metadata": {},
     "output_type": "execute_result"
    }
   ],
   "source": [
    "designtrain.shape"
   ]
  },
  {
   "cell_type": "code",
   "execution_count": 19,
   "metadata": {
    "collapsed": true
   },
   "outputs": [],
   "source": [
    "#########perform ridge regression\n",
    "Bay_poly = BayesianRidge()\n",
    "Bay_poly.fit(designtrain, y_train)\n",
    "y_predicted = Bay_poly.predict(designtest)\n",
    "y_predicted[y_predicted < 0] = 0\n",
    "#print('3rd order Model MAE:', mean_absolute_error(y_test, y_predicted))\n",
    "#print('Mean  MAE:', mean_absolute_error(y_test, np.full(y_test.shape, np.mean(y_test))))\n",
    "    "
   ]
  },
  {
   "cell_type": "code",
   "execution_count": 20,
   "metadata": {
    "collapsed": true
   },
   "outputs": [],
   "source": [
    "#Bay_poly = BayesianRidge()\n",
    "#Bay_poly.fit(designtrain, y_train)\n",
    "#y_predicted = Bay_poly.predict(designtest)"
   ]
  },
  {
   "cell_type": "code",
   "execution_count": 21,
   "metadata": {
    "collapsed": true
   },
   "outputs": [],
   "source": [
    "\n",
    "df_sub = pd.DataFrame({'Id': np.arange(y_predicted.size), 'PRP': y_predicted})\n",
    "df_sub.to_csv('21285542.csv', index=False)"
   ]
  },
  {
   "cell_type": "code",
   "execution_count": 22,
   "metadata": {},
   "outputs": [
    {
     "name": "stdout",
     "output_type": "stream",
     "text": [
      "[7.92518093e+01 1.06182501e+02 0.00000000e+00 0.00000000e+00\n",
      " 2.04105027e+02 2.78144258e+02 8.19171033e+01 1.57893203e+02\n",
      " 1.94921471e+02 1.88371737e+02 1.36483876e+01 1.83475179e+02\n",
      " 2.37201350e+01 0.00000000e+00 5.51265105e+01 2.20971386e+02\n",
      " 1.68599412e+00 0.00000000e+00 5.00624880e+01 2.03988043e+02\n",
      " 4.45650641e+01 5.44186252e+01 7.35522367e+01 3.86436273e-01\n",
      " 4.07578959e+01 4.45650641e+01 0.00000000e+00 1.09477135e+02\n",
      " 9.69383006e+00 1.83636033e+02 0.00000000e+00 0.00000000e+00\n",
      " 0.00000000e+00 1.20758056e+01 0.00000000e+00 4.17749119e+02\n",
      " 2.57868047e+02 3.29522375e+01 0.00000000e+00 3.36671263e+02\n",
      " 3.43443990e+02]\n"
     ]
    }
   ],
   "source": [
    "print(y_predicted)"
   ]
  },
  {
   "cell_type": "code",
   "execution_count": null,
   "metadata": {
    "collapsed": true
   },
   "outputs": [],
   "source": []
  }
 ],
 "metadata": {
  "kernelspec": {
   "display_name": "Python 3",
   "language": "python",
   "name": "python3"
  },
  "language_info": {
   "codemirror_mode": {
    "name": "ipython",
    "version": 3
   },
   "file_extension": ".py",
   "mimetype": "text/x-python",
   "name": "python",
   "nbconvert_exporter": "python",
   "pygments_lexer": "ipython3",
   "version": "3.6.2"
  }
 },
 "nbformat": 4,
 "nbformat_minor": 2
}
